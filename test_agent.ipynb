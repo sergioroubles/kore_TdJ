{
 "cells": [
  {
   "cell_type": "code",
   "execution_count": 2,
   "metadata": {
    "pycharm": {
     "name": "#%%\n"
    }
   },
   "outputs": [
    {
     "name": "stdout",
     "output_type": "stream",
     "text": [
      "Loading environment halite failed: name 'type_check' is not defined\n",
      "Loading environment kore_fleets failed: name 'type_check' is not defined\n"
     ]
    },
    {
     "ename": "InvalidArgument",
     "evalue": "Unknown Environment Specification",
     "output_type": "error",
     "traceback": [
      "\u001B[1;31m---------------------------------------------------------------------------\u001B[0m",
      "\u001B[1;31mInvalidArgument\u001B[0m                           Traceback (most recent call last)",
      "Input \u001B[1;32mIn [2]\u001B[0m, in \u001B[0;36m<cell line: 2>\u001B[1;34m()\u001B[0m\n\u001B[0;32m      1\u001B[0m \u001B[38;5;28;01mfrom\u001B[39;00m \u001B[38;5;21;01mkaggle_environments\u001B[39;00m \u001B[38;5;28;01mimport\u001B[39;00m make\n\u001B[1;32m----> 2\u001B[0m env \u001B[38;5;241m=\u001B[39m \u001B[43mmake\u001B[49m\u001B[43m(\u001B[49m\u001B[38;5;124;43m\"\u001B[39;49m\u001B[38;5;124;43mkore_fleets\u001B[39;49m\u001B[38;5;124;43m\"\u001B[39;49m\u001B[43m,\u001B[49m\u001B[43m \u001B[49m\u001B[43mdebug\u001B[49m\u001B[38;5;241;43m=\u001B[39;49m\u001B[38;5;28;43;01mTrue\u001B[39;49;00m\u001B[43m)\u001B[49m\n",
      "File \u001B[1;32m~\\OneDrive\\Repositorios\\kore_TdJ\\venv\\lib\\site-packages\\kaggle_environments\\core.py:108\u001B[0m, in \u001B[0;36mmake\u001B[1;34m(environment, configuration, info, steps, logs, debug, state)\u001B[0m\n\u001B[0;32m    106\u001B[0m \u001B[38;5;28;01melif\u001B[39;00m has(environment, path\u001B[38;5;241m=\u001B[39m[\u001B[38;5;124m\"\u001B[39m\u001B[38;5;124minterpreter\u001B[39m\u001B[38;5;124m\"\u001B[39m], is_callable\u001B[38;5;241m=\u001B[39m\u001B[38;5;28;01mTrue\u001B[39;00m):\n\u001B[0;32m    107\u001B[0m     \u001B[38;5;28;01mreturn\u001B[39;00m Environment(\u001B[38;5;241m*\u001B[39m\u001B[38;5;241m*\u001B[39menvironment, configuration\u001B[38;5;241m=\u001B[39mconfiguration, info\u001B[38;5;241m=\u001B[39minfo, steps\u001B[38;5;241m=\u001B[39msteps, logs\u001B[38;5;241m=\u001B[39mlogs, debug\u001B[38;5;241m=\u001B[39mdebug, state\u001B[38;5;241m=\u001B[39mstate)\n\u001B[1;32m--> 108\u001B[0m \u001B[38;5;28;01mraise\u001B[39;00m InvalidArgument(\u001B[38;5;124m\"\u001B[39m\u001B[38;5;124mUnknown Environment Specification\u001B[39m\u001B[38;5;124m\"\u001B[39m)\n",
      "\u001B[1;31mInvalidArgument\u001B[0m: Unknown Environment Specification"
     ]
    }
   ],
   "source": [
    "from kaggle_environments import make\n",
    "env = make(\"kore_fleets\", debug=True)"
   ]
  },
  {
   "cell_type": "code",
   "execution_count": 3,
   "metadata": {
    "pycharm": {
     "name": "#%%\n"
    }
   },
   "outputs": [
    {
     "ename": "NameError",
     "evalue": "name 'env' is not defined",
     "output_type": "error",
     "traceback": [
      "\u001B[1;31m---------------------------------------------------------------------------\u001B[0m",
      "\u001B[1;31mNameError\u001B[0m                                 Traceback (most recent call last)",
      "Input \u001B[1;32mIn [3]\u001B[0m, in \u001B[0;36m<cell line: 2>\u001B[1;34m()\u001B[0m\n\u001B[0;32m      1\u001B[0m starter_agent_path \u001B[38;5;241m=\u001B[39m \u001B[38;5;124m\"\u001B[39m\u001B[38;5;124m./agent.py\u001B[39m\u001B[38;5;124m\"\u001B[39m\n\u001B[1;32m----> 2\u001B[0m full_game \u001B[38;5;241m=\u001B[39m \u001B[43menv\u001B[49m\u001B[38;5;241m.\u001B[39mrun([starter_agent_path, \u001B[38;5;124m'\u001B[39m\u001B[38;5;124mrandom\u001B[39m\u001B[38;5;124m'\u001B[39m])\n\u001B[0;32m      3\u001B[0m env\u001B[38;5;241m.\u001B[39mrender(mode\u001B[38;5;241m=\u001B[39m\u001B[38;5;124m\"\u001B[39m\u001B[38;5;124mipython\u001B[39m\u001B[38;5;124m\"\u001B[39m, width\u001B[38;5;241m=\u001B[39m\u001B[38;5;241m1000\u001B[39m, height\u001B[38;5;241m=\u001B[39m\u001B[38;5;241m800\u001B[39m)\n",
      "\u001B[1;31mNameError\u001B[0m: name 'env' is not defined"
     ]
    }
   ],
   "source": [
    "starter_agent_path = \"./agent.py\"\n",
    "full_game = env.run([starter_agent_path, 'random'])\n",
    "env.render(mode=\"ipython\", width=1000, height=800)"
   ]
  },
  {
   "cell_type": "markdown",
   "source": [],
   "metadata": {
    "collapsed": false,
    "pycharm": {
     "name": "#%% md\n"
    }
   }
  }
 ],
 "metadata": {
  "interpreter": {
   "hash": "110fe3fb9777db4ce1f884af3cc527a40b2c98427ad17781c021ef692bd3d28d"
  },
  "kernelspec": {
   "display_name": "Python 3.10.4 64-bit",
   "language": "python",
   "name": "python3"
  },
  "language_info": {
   "codemirror_mode": {
    "name": "ipython",
    "version": 3
   },
   "file_extension": ".py",
   "mimetype": "text/x-python",
   "name": "python",
   "nbconvert_exporter": "python",
   "pygments_lexer": "ipython3",
   "version": "3.10.4"
  },
  "orig_nbformat": 4
 },
 "nbformat": 4,
 "nbformat_minor": 2
}